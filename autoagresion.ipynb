{
 "cells": [
  {
   "cell_type": "markdown",
   "metadata": {},
   "source": [
    "## ДИАГНОСТИРОВАНИЕ СКЛОННОСТИ АВТОРА ПИСЬМЕННОГО ТЕКСТА К АУТОАГРЕССИВНОМУ ПОВЕДЕНИЮ"
   ]
  },
  {
   "cell_type": "code",
   "execution_count": 1,
   "metadata": {},
   "outputs": [],
   "source": [
    "text = \"\"\"Студенческий, зачетную книжку и ВКР обменяла на красивенький диплом🔹\n",
    "Раньше я как-то не могла точно ответить на вопрос: «Зачем тратить 4 года на корочку о высшем образовании и на знания, 80% которых можно получить из Интернета?». Просто надо и всё.\n",
    "Но сейчас спустя 8 семестров, сотни пар и десятки сданных экзаменов, я точно знаю ответ на этот вопрос. В Университет стоит идти из-за людей. Людей, которые будут окружать тебя все это время, направлять, менять и дополнять. Здесь я нашла своих родных девочек, познакомилась с интересными людьми и узнала много нового. Очень грустно, что больше не прогуляем пары, не опоздаем на лекции, не перепутаем аудитории, не заблудимся в академии и не будем готовиться к экзамену в Макдональдсе на втором этаже❤️\n",
    "Я прощаюсь с безумно важным периодом моей жизни, важным не из-за корочки в моих руках (хотя это тоже имеет большое значение), а из-за любимых и дорогих мне человечков, которые навсегда останутся в моем сердце. Всех люблю❤️❤️❤️ \"\"\""
   ]
  },
  {
   "cell_type": "code",
   "execution_count": 2,
   "metadata": {},
   "outputs": [],
   "source": [
    "# Индексы удобочитаемости текстов, т.е. мера определения сложности восприятия текста читателем.  "
   ]
  },
  {
   "cell_type": "code",
   "execution_count": 3,
   "metadata": {},
   "outputs": [],
   "source": [
    "import pymorphy2\n",
    "morph = pymorphy2.MorphAnalyzer()\n",
    "from nltk import tokenize\n",
    "import re\n",
    "import nltk\n",
    "import pyphen\n",
    "import numpy as np\n"
   ]
  },
  {
   "cell_type": "code",
   "execution_count": 4,
   "metadata": {},
   "outputs": [],
   "source": [
    "def get_words(text):\n",
    "    \"\"\"\n",
    "        Returns a list of all words found in the text.\n",
    "    \"\"\"\n",
    "    word_tokenizer = tokenize.TreebankWordTokenizer()\n",
    "    words = [w.strip().lower() for w in word_tokenizer.tokenize(text) if w.strip()]\n",
    "\n",
    "    # Remove punctuation from words:\n",
    "    # Ex.:  <<This is the final.>>  becomes\n",
    "    # ['<','<', 'This', 'is', 'the', 'final', '.', '>', '>'] -> ['This', 'is', 'the', 'final']\n",
    "    words = [re.sub(\"\\W\", '', word) for word in words]\n",
    "    words = [word for word in words if word]\n",
    "    return words"
   ]
  },
  {
   "cell_type": "code",
   "execution_count": 5,
   "metadata": {},
   "outputs": [],
   "source": [
    "def get_sentences(text):\n",
    "    \"\"\"\n",
    "         Returns a list of all sentences found in the text.\n",
    "    \"\"\"\n",
    "    sentences = tokenize.sent_tokenize(text)\n",
    "    sentences_only_chars = []\n",
    "    # Remove sentences containing only punctuation:\n",
    "    for sentence in sentences:\n",
    "        if re.sub(\"\\W\", \"\", sentence):\n",
    "            sentences_only_chars.append(sentence)\n",
    "    return sentences_only_chars"
   ]
  },
  {
   "cell_type": "code",
   "execution_count": 6,
   "metadata": {},
   "outputs": [],
   "source": [
    "sentences = get_sentences(text)\n",
    "words = get_words(text)"
   ]
  },
  {
   "cell_type": "code",
   "execution_count": 7,
   "metadata": {},
   "outputs": [],
   "source": [
    "number_sentences = len(sentences) # Количество предложений\n",
    "number_words = len(words) # Количество слов"
   ]
  },
  {
   "cell_type": "code",
   "execution_count": 8,
   "metadata": {},
   "outputs": [],
   "source": [
    "def get_number_syllables(words):\n",
    "        dic = pyphen.Pyphen(lang='ru')\n",
    "\n",
    "        syllables = 0\n",
    "        words_3_syllables_more = 0\n",
    "\n",
    "        for word in words:\n",
    "            syl = len(dic.inserted(word).split(\"-\"))\n",
    "            syllables += syl\n",
    "            if syl >= 3:\n",
    "                words_3_syllables_more += 1\n",
    "        return syllables, words_3_syllables_more"
   ]
  },
  {
   "cell_type": "code",
   "execution_count": 9,
   "metadata": {},
   "outputs": [],
   "source": [
    "# number_syllables - количство слогов\n",
    "# number_polysyllable_words - количество сложных слов \n",
    "number_syllables, number_polysyllable_words = get_number_syllables(words)"
   ]
  },
  {
   "cell_type": "code",
   "execution_count": 10,
   "metadata": {},
   "outputs": [],
   "source": [
    "# Индекс удобочитаемости текста Флеша\n",
    "flesh = 206.835 - 1.3 * (number_words / number_sentences) - 60.1 * (number_syllables / number_words)"
   ]
  },
  {
   "cell_type": "code",
   "execution_count": 11,
   "metadata": {},
   "outputs": [],
   "source": [
    "#  Индекс Ганнинга (или Фог-индекс, Fog Index).\n",
    "fog_index= 0.4 * (0.78*((number_words / number_sentences)) + 100 * (number_polysyllable_words / number_words))"
   ]
  },
  {
   "cell_type": "code",
   "execution_count": 12,
   "metadata": {},
   "outputs": [],
   "source": [
    "# Средняя длина предложений\n",
    "avrg_len_sentence = len(words)/len(sentences)"
   ]
  },
  {
   "cell_type": "code",
   "execution_count": 13,
   "metadata": {},
   "outputs": [],
   "source": [
    "length = []\n",
    "for sentence in sentences:\n",
    "    length.append(len(get_words(sentence)))"
   ]
  },
  {
   "cell_type": "code",
   "execution_count": 21,
   "metadata": {},
   "outputs": [],
   "source": [
    "average_word_in_sentence = np.average(length)"
   ]
  },
  {
   "cell_type": "code",
   "execution_count": 22,
   "metadata": {},
   "outputs": [
    {
     "data": {
      "text/plain": [
       "19.375"
      ]
     },
     "execution_count": 22,
     "metadata": {},
     "output_type": "execute_result"
    }
   ],
   "source": [
    "average_word_in_sentence"
   ]
  },
  {
   "cell_type": "code",
   "execution_count": 40,
   "metadata": {},
   "outputs": [],
   "source": [
    "# Индекс лексического разнообразия текста (TTR token type ration)\n",
    "document= re.sub(r'[^\\w]', ' ', text)\n",
    "document=document.lower()\n",
    "tokens=nltk.word_tokenize(document)\n",
    "types=nltk.Counter(tokens)\n",
    "TTR= (len(types)/len(tokens))"
   ]
  },
  {
   "cell_type": "code",
   "execution_count": 41,
   "metadata": {},
   "outputs": [
    {
     "data": {
      "text/plain": [
       "0.75625"
      ]
     },
     "execution_count": 41,
     "metadata": {},
     "output_type": "execute_result"
    }
   ],
   "source": [
    "TTR"
   ]
  },
  {
   "cell_type": "code",
   "execution_count": 42,
   "metadata": {},
   "outputs": [],
   "source": [
    "# Доля прелогов (PREP) в тексте \n",
    "document= re.sub(r'[^\\w]', ' ', text)\n",
    "tokens=nltk.word_tokenize(document)\n",
    "\n",
    "count_prep = 0\n",
    "for word in tokens:\n",
    "    p = morph.parse(word)[0]\n",
    "    if p.tag.POS == 'PREP':\n",
    "        count_prep+=1\n",
    "    \n",
    "percentage_unions_in_the_text = count_prep/len(tokens)"
   ]
  },
  {
   "cell_type": "code",
   "execution_count": 43,
   "metadata": {},
   "outputs": [],
   "source": [
    "x1 = average_word_in_sentence\n",
    "x2 = TTR\n",
    "x3 = percentage_unions_in_the_text"
   ]
  },
  {
   "cell_type": "code",
   "execution_count": 47,
   "metadata": {},
   "outputs": [
    {
     "name": "stdout",
     "output_type": "stream",
     "text": [
      "3.708737499999999\n"
     ]
    }
   ],
   "source": [
    "# Баллы по шкале «Спонтанная агрессивность»\n",
    "\n",
    "spontaneous_aggression = 22.996 + (0.169*x1) - (21.910*x2)-(39.948*x3)\n",
    "print(spontaneous_aggression)"
   ]
  },
  {
   "cell_type": "code",
   "execution_count": 48,
   "metadata": {},
   "outputs": [
    {
     "ename": "SyntaxError",
     "evalue": "invalid syntax (<ipython-input-48-985deff74a8f>, line 1)",
     "output_type": "error",
     "traceback": [
      "\u001b[0;36m  File \u001b[0;32m\"<ipython-input-48-985deff74a8f>\"\u001b[0;36m, line \u001b[0;32m1\u001b[0m\n\u001b[0;31m    class AutoargressionAnalysis()\u001b[0m\n\u001b[0m                                  ^\u001b[0m\n\u001b[0;31mSyntaxError\u001b[0m\u001b[0;31m:\u001b[0m invalid syntax\n"
     ]
    }
   ],
   "source": []
  },
  {
   "cell_type": "code",
   "execution_count": null,
   "metadata": {},
   "outputs": [],
   "source": []
  },
  {
   "cell_type": "code",
   "execution_count": 3,
   "metadata": {},
   "outputs": [],
   "source": [
    "text = [\"\"\"Студенческий, зачетную книжку и ВКР обменяла на красивенький диплом🔹\n",
    "Раньше я как-то не могла точно ответить на вопрос: «Зачем тратить 4 года на корочку о высшем образовании и на знания, 80% которых можно получить из Интернета?». Просто надо и всё.\n",
    "Но сейчас спустя 8 семестров, сотни пар и десятки сданных экзаменов, я точно знаю ответ на этот вопрос. В Университет стоит идти из-за людей. Людей, которые будут окружать тебя все это время, направлять, менять и дополнять. Здесь я нашла своих родных девочек, познакомилась с интересными людьми и узнала много нового. Очень грустно, что больше не прогуляем пары, не опоздаем на лекции, не перепутаем аудитории, не заблудимся в академии и не будем готовиться к экзамену в Макдональдсе на втором этаже❤️\n",
    "Я прощаюсь с безумно важным периодом моей жизни, важным не из-за корочки в моих руках (хотя это тоже имеет большое значение), а из-за любимых и дорогих мне человечков, которые навсегда останутся в моем сердце. Всех люблю❤️❤️❤️ \"\"\",\n",
    "        \"Настроение: латте с кокосовым сиропом, лето и шоппинг✨🙃 Скучала по этому💔\",\n",
    "        \"Добавлю красок в вашу инстаграмм ленту✨\"\n",
    "        \"Дорогие мои, спасибо, что были с нами в этот день❤️ И спасибо тем, кто поздравил, позвонил, написал❤️ Это был замечательный день, несмотря на все внешние факторы и на то, что нас расписывал регистратор в медицинской маске😹 Такое точно до конца жизни не забудется😹\"\n",
    "        \"В этом мае я утону в цветах🌺\",\n",
    "        \"Мне кажется, если продлят карантин на лето, то после ГОСов и ВКР, моим единственным занятием станет отращивание волос и Netflix😂 Но пока держусь, и как многие, саморазвиваюсь. Я умничка🙃 #самсебянепохвалишьниктонепохвалит\"\n",
    "       ]"
   ]
  },
  {
   "cell_type": "code",
   "execution_count": 4,
   "metadata": {},
   "outputs": [],
   "source": [
    "from pipeline.statistics import autoaression\n",
    "spontaneous_aggression = []\n",
    "depression = []\n",
    "balance = []\n",
    "emotional_lability = []\n",
    "for tex in text:\n",
    "    auto = autoaression.AutoaggressionAnalysis(tex)\n",
    "    spontaneous_aggression.append(auto.spontaneous_aggression())\n",
    "    depression.append(auto.depression())\n",
    "    balance.append(auto.balance())\n",
    "    emotional_lability.append(auto.emotional_lability())"
   ]
  },
  {
   "cell_type": "code",
   "execution_count": 5,
   "metadata": {},
   "outputs": [],
   "source": [
    "import matplotlib.pyplot as plt\n",
    "import numpy as np"
   ]
  },
  {
   "cell_type": "code",
   "execution_count": 6,
   "metadata": {},
   "outputs": [
    {
     "data": {
      "text/plain": [
       "5.084783313041126"
      ]
     },
     "execution_count": 6,
     "metadata": {},
     "output_type": "execute_result"
    }
   ],
   "source": [
    "np.average(emotional_lability)"
   ]
  },
  {
   "cell_type": "code",
   "execution_count": 7,
   "metadata": {},
   "outputs": [
    {
     "data": {
      "text/plain": [
       "19.74141139745671"
      ]
     },
     "execution_count": 7,
     "metadata": {},
     "output_type": "execute_result"
    }
   ],
   "source": [
    "np.average(balance)"
   ]
  },
  {
   "cell_type": "code",
   "execution_count": 8,
   "metadata": {},
   "outputs": [
    {
     "data": {
      "text/plain": [
       "5.193976488095239"
      ]
     },
     "execution_count": 8,
     "metadata": {},
     "output_type": "execute_result"
    }
   ],
   "source": [
    "np.average(depression)"
   ]
  },
  {
   "cell_type": "code",
   "execution_count": 9,
   "metadata": {},
   "outputs": [
    {
     "data": {
      "text/plain": [
       "6.884347470238094"
      ]
     },
     "execution_count": 9,
     "metadata": {},
     "output_type": "execute_result"
    }
   ],
   "source": [
    "np.average(spontaneous_aggression)"
   ]
  },
  {
   "cell_type": "code",
   "execution_count": null,
   "metadata": {},
   "outputs": [],
   "source": []
  },
  {
   "cell_type": "code",
   "execution_count": null,
   "metadata": {},
   "outputs": [],
   "source": []
  }
 ],
 "metadata": {
  "kernelspec": {
   "display_name": "Python 3",
   "language": "python",
   "name": "python3"
  },
  "language_info": {
   "codemirror_mode": {
    "name": "ipython",
    "version": 3
   },
   "file_extension": ".py",
   "mimetype": "text/x-python",
   "name": "python",
   "nbconvert_exporter": "python",
   "pygments_lexer": "ipython3",
   "version": "3.6.9"
  }
 },
 "nbformat": 4,
 "nbformat_minor": 4
}
