{
 "cells": [
  {
   "cell_type": "code",
   "execution_count": 1,
   "metadata": {},
   "outputs": [],
   "source": [
    "%load_ext dotenv\n",
    "%dotenv"
   ]
  },
  {
   "cell_type": "code",
   "execution_count": 2,
   "metadata": {},
   "outputs": [],
   "source": [
    "import vk_api\n",
    "import os"
   ]
  },
  {
   "cell_type": "code",
   "execution_count": 56,
   "metadata": {},
   "outputs": [],
   "source": [
    "vk_session = vk_api.VkApi(os.getenv('LOGIN'), os.getenv('PASSWORD'))\n",
    "vk_session.auth()\n",
    "vk = vk_session.get_api()"
   ]
  },
  {
   "cell_type": "code",
   "execution_count": 71,
   "metadata": {},
   "outputs": [],
   "source": [
    "X = 'https://vk.com/nastia_z'\n",
    "screen_name = X.split('/')[-1]\n",
    "res = vk.utils.resolveScreenName(screen_name=screen_name)"
   ]
  },
  {
   "cell_type": "code",
   "execution_count": 72,
   "metadata": {},
   "outputs": [
    {
     "data": {
      "text/plain": [
       "{'object_id': 27032309, 'type': 'user'}"
      ]
     },
     "execution_count": 72,
     "metadata": {},
     "output_type": "execute_result"
    }
   ],
   "source": [
    "res"
   ]
  },
  {
   "cell_type": "code",
   "execution_count": 73,
   "metadata": {},
   "outputs": [
    {
     "data": {
      "text/plain": [
       "27032309"
      ]
     },
     "execution_count": 73,
     "metadata": {},
     "output_type": "execute_result"
    }
   ],
   "source": [
    "user_id = res['object_id']\n",
    "user_id"
   ]
  },
  {
   "cell_type": "code",
   "execution_count": 80,
   "metadata": {},
   "outputs": [],
   "source": [
    "response = vk.friends.get(user_id=user_id)"
   ]
  },
  {
   "cell_type": "code",
   "execution_count": 81,
   "metadata": {
    "scrolled": true
   },
   "outputs": [
    {
     "data": {
      "text/plain": [
       "{'count': 96,\n",
       " 'items': [6945,\n",
       "  569213,\n",
       "  4497212,\n",
       "  5611552,\n",
       "  6466195,\n",
       "  8283113,\n",
       "  9556907,\n",
       "  9885093,\n",
       "  13096532,\n",
       "  13571894,\n",
       "  15310598,\n",
       "  17604836,\n",
       "  17666174,\n",
       "  19270231,\n",
       "  19439290,\n",
       "  21277862,\n",
       "  23132183,\n",
       "  25616594,\n",
       "  25957011,\n",
       "  26024516,\n",
       "  29831042,\n",
       "  30612185,\n",
       "  33011557,\n",
       "  34674778,\n",
       "  36037663,\n",
       "  36188962,\n",
       "  36377344,\n",
       "  36578469,\n",
       "  40366501,\n",
       "  41514081,\n",
       "  42335570,\n",
       "  46505294,\n",
       "  49741643,\n",
       "  50059061,\n",
       "  51610927,\n",
       "  52232671,\n",
       "  52423642,\n",
       "  54344127,\n",
       "  59129342,\n",
       "  61401977,\n",
       "  62132491,\n",
       "  62954304,\n",
       "  63443024,\n",
       "  64435506,\n",
       "  65022068,\n",
       "  65714224,\n",
       "  67130232,\n",
       "  68097448,\n",
       "  72122030,\n",
       "  73598433,\n",
       "  81679642,\n",
       "  82048886,\n",
       "  84835396,\n",
       "  87482521,\n",
       "  88479668,\n",
       "  89343525,\n",
       "  94319185,\n",
       "  96037693,\n",
       "  103804628,\n",
       "  105748271,\n",
       "  106866454,\n",
       "  107237592,\n",
       "  111082788,\n",
       "  111255049,\n",
       "  113515873,\n",
       "  114481891,\n",
       "  115847817,\n",
       "  121983075,\n",
       "  124008822,\n",
       "  124241168,\n",
       "  136038775,\n",
       "  137477984,\n",
       "  138440931,\n",
       "  144236752,\n",
       "  150359899,\n",
       "  152111968,\n",
       "  155036919,\n",
       "  163992424,\n",
       "  173578515,\n",
       "  196187322,\n",
       "  198493716,\n",
       "  198894076,\n",
       "  202619953,\n",
       "  212840218,\n",
       "  215089581,\n",
       "  215554374,\n",
       "  223730305,\n",
       "  225162432,\n",
       "  249614298,\n",
       "  319956676,\n",
       "  326353529,\n",
       "  365037398,\n",
       "  366463427,\n",
       "  373691555,\n",
       "  397369563,\n",
       "  476501079]}"
      ]
     },
     "execution_count": 81,
     "metadata": {},
     "output_type": "execute_result"
    }
   ],
   "source": [
    "response"
   ]
  },
  {
   "cell_type": "code",
   "execution_count": 20,
   "metadata": {},
   "outputs": [
    {
     "data": {
      "text/plain": [
       "11"
      ]
     },
     "execution_count": 20,
     "metadata": {},
     "output_type": "execute_result"
    }
   ],
   "source": [
    "result = []\n",
    "response = vk.photos.get(owner_id=user_id, album_id=\"wall\", count=1)\n",
    "if response['count'] > 100:\n",
    "    repeat_offset = int(resp['count'] / 100)\n",
    "    offset = 0\n",
    "    for offset in range(repeat_offset)\n",
    "        response = vk.photos.get(owner_id=user_id, album_id=\"wall\", count=100, offset=offset)\n",
    "        offset+=100"
   ]
  },
  {
   "cell_type": "code",
   "execution_count": 17,
   "metadata": {
    "scrolled": true
   },
   "outputs": [],
   "source": [
    "result = []\n",
    "image_size = 'x'\n",
    "for item in response['items']:\n",
    "    image = ''\n",
    "    for size in item['sizes']:\n",
    "        if size['type'] == image_size:\n",
    "            image =  size['url']\n",
    "    \n",
    "    result.append({\n",
    "        \"date\":item['date'],\n",
    "        \"image\": image\n",
    "    })"
   ]
  },
  {
   "cell_type": "code",
   "execution_count": 18,
   "metadata": {},
   "outputs": [
    {
     "data": {
      "text/plain": [
       "[{'date': 1349613375,\n",
       "  'image': 'https://sun9-2.userapi.com/9AWIDadndvImYdCFqyDjW7aPuUR4VKSoS8Kgkg/yRVPdRrByYk.jpg'},\n",
       " {'date': 1350238521,\n",
       "  'image': 'https://sun9-70.userapi.com/J-cqB5p4qE1hw9Xp7UkcPxItk3NSjCuGAjpNkw/b9KxSVmrOG0.jpg'},\n",
       " {'date': 1350238521,\n",
       "  'image': 'https://sun9-63.userapi.com/E41rGaoTC2bVf5MQEGYzS6p-a0JLgMDxlLcEUA/XWfQZqavLxg.jpg'},\n",
       " {'date': 1350238521,\n",
       "  'image': 'https://sun9-62.userapi.com/lHIG7s-37CBsso1e01jLKNOqTeIoSdQpjFogRQ/vcoLX9svjMM.jpg'},\n",
       " {'date': 1350238521,\n",
       "  'image': 'https://sun9-46.userapi.com/GmhAPzsfoWR7J07eiydw7M3ic35jqBJENwQYbQ/zLHlZMxRrXg.jpg'},\n",
       " {'date': 1350238521,\n",
       "  'image': 'https://sun9-20.userapi.com/rhtqGN_CtKG037ZfLs6iBc52NsYfZ53nOU4QAA/cDCdXhptS2I.jpg'},\n",
       " {'date': 1353261669,\n",
       "  'image': 'https://sun9-2.userapi.com/9_LHtST-I6Xo9cCDete3uhuJ0zGvTsyEWEf0sA/5FGslzJkR1E.jpg'},\n",
       " {'date': 1353329454,\n",
       "  'image': 'https://sun9-22.userapi.com/74sG7Zll3hyxPCFOf9HZxC1bSB_57BXEgMmnXA/SdRdspD0g2c.jpg'},\n",
       " {'date': 1357338385,\n",
       "  'image': 'https://sun9-64.userapi.com/wJNhLq86FraADkzFi_Ivc15wqmDkZLpZ7DRepg/1MqcuIrYD_E.jpg'},\n",
       " {'date': 1358166499,\n",
       "  'image': 'https://sun9-17.userapi.com/p64b8xLFcnegZ8nHsx5KmxaU0WWVeRAwsbhK8A/b61khO3RXtg.jpg'},\n",
       " {'date': 1359552540,\n",
       "  'image': 'https://sun9-45.userapi.com/c6122/v6122775/2f9f/hRKxQlBhzww.jpg'}]"
      ]
     },
     "execution_count": 18,
     "metadata": {},
     "output_type": "execute_result"
    }
   ],
   "source": [
    "result"
   ]
  },
  {
   "cell_type": "code",
   "execution_count": null,
   "metadata": {},
   "outputs": [],
   "source": []
  }
 ],
 "metadata": {
  "kernelspec": {
   "display_name": "Python 3",
   "language": "python",
   "name": "python3"
  },
  "language_info": {
   "codemirror_mode": {
    "name": "ipython",
    "version": 3
   },
   "file_extension": ".py",
   "mimetype": "text/x-python",
   "name": "python",
   "nbconvert_exporter": "python",
   "pygments_lexer": "ipython3",
   "version": "3.6.10"
  }
 },
 "nbformat": 4,
 "nbformat_minor": 4
}
